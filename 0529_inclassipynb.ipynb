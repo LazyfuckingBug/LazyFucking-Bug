{
  "nbformat": 4,
  "nbformat_minor": 0,
  "metadata": {
    "colab": {
      "provenance": [],
      "mount_file_id": "138k-3X9OCOzgagODdB1tdDPn9-8HrGMO",
      "authorship_tag": "ABX9TyOxjncVO3/6qThu6kS50Ww7",
      "include_colab_link": true
    },
    "kernelspec": {
      "name": "python3",
      "display_name": "Python 3"
    },
    "language_info": {
      "name": "python"
    }
  },
  "cells": [
    {
      "cell_type": "markdown",
      "metadata": {
        "id": "view-in-github",
        "colab_type": "text"
      },
      "source": [
        "<a href=\"https://colab.research.google.com/github/LazyfuckingBug/LazyFucking-Bug/blob/main/0529_inclassipynb.ipynb\" target=\"_parent\"><img src=\"https://colab.research.google.com/assets/colab-badge.svg\" alt=\"Open In Colab\"/></a>"
      ]
    },
    {
      "cell_type": "code",
      "execution_count": 9,
      "metadata": {
        "colab": {
          "base_uri": "https://localhost:8080/"
        },
        "id": "IcIDDcwY3YTR",
        "outputId": "6e21e65b-b38f-4982-f69c-cbc782f5c81d"
      },
      "outputs": [
        {
          "output_type": "stream",
          "name": "stdout",
          "text": [
            "Drive already mounted at /content/drive; to attempt to forcibly remount, call drive.mount(\"/content/drive\", force_remount=True).\n"
          ]
        }
      ],
      "source": [
        "from google.colab import drive\n",
        "drive.mount('/content/drive')"
      ]
    },
    {
      "cell_type": "code",
      "source": [
        "ls '/content/drive/MyDrive/Colab Notebooks/txt '"
      ],
      "metadata": {
        "colab": {
          "base_uri": "https://localhost:8080/"
        },
        "id": "zm_5hpRk7bbi",
        "outputId": "faae6988-4057-43af-9ad3-7eb2e2a10e6b"
      },
      "execution_count": 10,
      "outputs": [
        {
          "output_type": "stream",
          "name": "stdout",
          "text": [
            " alexender.txt  'Metro Boomin want some more.txt'   Y.txt\n"
          ]
        }
      ]
    },
    {
      "cell_type": "code",
      "source": [
        "import nltk\n",
        "nltk.download('popular')\n",
        "nltk.download('all-corpora')\n",
        "nltk.download('punkt')"
      ],
      "metadata": {
        "colab": {
          "base_uri": "https://localhost:8080/"
        },
        "id": "S8UA5oQd7jOq",
        "outputId": "8435829d-e640-4cd4-b80f-5cc1205f5f8f"
      },
      "execution_count": null,
      "outputs": [
        {
          "output_type": "stream",
          "name": "stderr",
          "text": [
            "[nltk_data] Downloading collection 'popular'\n",
            "[nltk_data]    | \n",
            "[nltk_data]    | Downloading package cmudict to /root/nltk_data...\n",
            "[nltk_data]    |   Unzipping corpora/cmudict.zip.\n",
            "[nltk_data]    | Downloading package gazetteers to /root/nltk_data...\n",
            "[nltk_data]    |   Unzipping corpora/gazetteers.zip.\n",
            "[nltk_data]    | Downloading package genesis to /root/nltk_data...\n",
            "[nltk_data]    |   Unzipping corpora/genesis.zip.\n",
            "[nltk_data]    | Downloading package gutenberg to /root/nltk_data...\n",
            "[nltk_data]    |   Unzipping corpora/gutenberg.zip.\n",
            "[nltk_data]    | Downloading package inaugural to /root/nltk_data...\n",
            "[nltk_data]    |   Unzipping corpora/inaugural.zip.\n",
            "[nltk_data]    | Downloading package movie_reviews to\n",
            "[nltk_data]    |     /root/nltk_data...\n",
            "[nltk_data]    |   Unzipping corpora/movie_reviews.zip.\n",
            "[nltk_data]    | Downloading package names to /root/nltk_data...\n",
            "[nltk_data]    |   Unzipping corpora/names.zip.\n",
            "[nltk_data]    | Downloading package shakespeare to /root/nltk_data...\n",
            "[nltk_data]    |   Unzipping corpora/shakespeare.zip.\n",
            "[nltk_data]    | Downloading package stopwords to /root/nltk_data...\n",
            "[nltk_data]    |   Unzipping corpora/stopwords.zip.\n",
            "[nltk_data]    | Downloading package treebank to /root/nltk_data...\n",
            "[nltk_data]    |   Unzipping corpora/treebank.zip.\n",
            "[nltk_data]    | Downloading package twitter_samples to\n",
            "[nltk_data]    |     /root/nltk_data...\n",
            "[nltk_data]    |   Unzipping corpora/twitter_samples.zip.\n",
            "[nltk_data]    | Downloading package omw to /root/nltk_data...\n",
            "[nltk_data]    | Downloading package omw-1.4 to /root/nltk_data...\n",
            "[nltk_data]    | Downloading package wordnet to /root/nltk_data...\n",
            "[nltk_data]    | Downloading package wordnet2021 to /root/nltk_data...\n",
            "[nltk_data]    | Downloading package wordnet31 to /root/nltk_data...\n",
            "[nltk_data]    | Downloading package wordnet_ic to /root/nltk_data...\n",
            "[nltk_data]    |   Unzipping corpora/wordnet_ic.zip.\n",
            "[nltk_data]    | Downloading package words to /root/nltk_data...\n",
            "[nltk_data]    |   Unzipping corpora/words.zip.\n",
            "[nltk_data]    | Downloading package maxent_ne_chunker to\n",
            "[nltk_data]    |     /root/nltk_data...\n",
            "[nltk_data]    |   Unzipping chunkers/maxent_ne_chunker.zip.\n",
            "[nltk_data]    | Downloading package punkt to /root/nltk_data...\n",
            "[nltk_data]    |   Unzipping tokenizers/punkt.zip.\n",
            "[nltk_data]    | Downloading package snowball_data to\n",
            "[nltk_data]    |     /root/nltk_data...\n",
            "[nltk_data]    | Downloading package averaged_perceptron_tagger to\n",
            "[nltk_data]    |     /root/nltk_data...\n",
            "[nltk_data]    |   Unzipping taggers/averaged_perceptron_tagger.zip.\n",
            "[nltk_data]    | \n",
            "[nltk_data]  Done downloading collection popular\n",
            "[nltk_data] Downloading collection 'all-corpora'\n",
            "[nltk_data]    | \n",
            "[nltk_data]    | Downloading package abc to /root/nltk_data...\n",
            "[nltk_data]    |   Unzipping corpora/abc.zip.\n",
            "[nltk_data]    | Downloading package alpino to /root/nltk_data...\n",
            "[nltk_data]    |   Unzipping corpora/alpino.zip.\n",
            "[nltk_data]    | Downloading package bcp47 to /root/nltk_data...\n",
            "[nltk_data]    | Downloading package biocreative_ppi to\n",
            "[nltk_data]    |     /root/nltk_data...\n",
            "[nltk_data]    |   Unzipping corpora/biocreative_ppi.zip.\n",
            "[nltk_data]    | Downloading package brown to /root/nltk_data...\n",
            "[nltk_data]    |   Unzipping corpora/brown.zip.\n",
            "[nltk_data]    | Downloading package brown_tei to /root/nltk_data...\n",
            "[nltk_data]    |   Unzipping corpora/brown_tei.zip.\n",
            "[nltk_data]    | Downloading package cess_cat to /root/nltk_data...\n",
            "[nltk_data]    |   Unzipping corpora/cess_cat.zip.\n",
            "[nltk_data]    | Downloading package cess_esp to /root/nltk_data...\n",
            "[nltk_data]    |   Unzipping corpora/cess_esp.zip.\n",
            "[nltk_data]    | Downloading package chat80 to /root/nltk_data...\n",
            "[nltk_data]    |   Unzipping corpora/chat80.zip.\n",
            "[nltk_data]    | Downloading package city_database to\n",
            "[nltk_data]    |     /root/nltk_data...\n",
            "[nltk_data]    |   Unzipping corpora/city_database.zip.\n",
            "[nltk_data]    | Downloading package cmudict to /root/nltk_data...\n",
            "[nltk_data]    |   Package cmudict is already up-to-date!\n",
            "[nltk_data]    | Downloading package comparative_sentences to\n",
            "[nltk_data]    |     /root/nltk_data...\n",
            "[nltk_data]    |   Unzipping corpora/comparative_sentences.zip.\n",
            "[nltk_data]    | Downloading package comtrans to /root/nltk_data...\n",
            "[nltk_data]    | Downloading package conll2000 to /root/nltk_data...\n",
            "[nltk_data]    |   Unzipping corpora/conll2000.zip.\n",
            "[nltk_data]    | Downloading package conll2002 to /root/nltk_data...\n",
            "[nltk_data]    |   Unzipping corpora/conll2002.zip.\n",
            "[nltk_data]    | Downloading package conll2007 to /root/nltk_data...\n",
            "[nltk_data]    | Downloading package crubadan to /root/nltk_data...\n",
            "[nltk_data]    |   Unzipping corpora/crubadan.zip.\n",
            "[nltk_data]    | Downloading package dependency_treebank to\n",
            "[nltk_data]    |     /root/nltk_data...\n",
            "[nltk_data]    |   Unzipping corpora/dependency_treebank.zip.\n",
            "[nltk_data]    | Downloading package dolch to /root/nltk_data...\n",
            "[nltk_data]    |   Unzipping corpora/dolch.zip.\n",
            "[nltk_data]    | Downloading package english_wordnet to\n",
            "[nltk_data]    |     /root/nltk_data...\n",
            "[nltk_data]    |   Unzipping corpora/english_wordnet.zip.\n",
            "[nltk_data]    | Downloading package europarl_raw to\n",
            "[nltk_data]    |     /root/nltk_data...\n",
            "[nltk_data]    |   Unzipping corpora/europarl_raw.zip.\n",
            "[nltk_data]    | Downloading package extended_omw to\n",
            "[nltk_data]    |     /root/nltk_data...\n",
            "[nltk_data]    | Downloading package floresta to /root/nltk_data...\n",
            "[nltk_data]    |   Unzipping corpora/floresta.zip.\n",
            "[nltk_data]    | Downloading package framenet_v15 to\n",
            "[nltk_data]    |     /root/nltk_data...\n",
            "[nltk_data]    |   Unzipping corpora/framenet_v15.zip.\n",
            "[nltk_data]    | Downloading package framenet_v17 to\n",
            "[nltk_data]    |     /root/nltk_data...\n",
            "[nltk_data]    |   Unzipping corpora/framenet_v17.zip.\n",
            "[nltk_data]    | Downloading package gazetteers to /root/nltk_data...\n",
            "[nltk_data]    |   Package gazetteers is already up-to-date!\n",
            "[nltk_data]    | Downloading package genesis to /root/nltk_data...\n",
            "[nltk_data]    |   Package genesis is already up-to-date!\n",
            "[nltk_data]    | Downloading package gutenberg to /root/nltk_data...\n",
            "[nltk_data]    |   Package gutenberg is already up-to-date!\n",
            "[nltk_data]    | Downloading package ieer to /root/nltk_data...\n",
            "[nltk_data]    |   Unzipping corpora/ieer.zip.\n",
            "[nltk_data]    | Downloading package inaugural to /root/nltk_data...\n",
            "[nltk_data]    |   Package inaugural is already up-to-date!\n",
            "[nltk_data]    | Downloading package indian to /root/nltk_data...\n",
            "[nltk_data]    |   Unzipping corpora/indian.zip.\n",
            "[nltk_data]    | Downloading package jeita to /root/nltk_data...\n",
            "[nltk_data]    | Downloading package kimmo to /root/nltk_data...\n",
            "[nltk_data]    |   Unzipping corpora/kimmo.zip.\n",
            "[nltk_data]    | Downloading package knbc to /root/nltk_data...\n",
            "[nltk_data]    | Downloading package lin_thesaurus to\n",
            "[nltk_data]    |     /root/nltk_data...\n",
            "[nltk_data]    |   Unzipping corpora/lin_thesaurus.zip.\n",
            "[nltk_data]    | Downloading package mac_morpho to /root/nltk_data...\n",
            "[nltk_data]    |   Unzipping corpora/mac_morpho.zip.\n",
            "[nltk_data]    | Downloading package machado to /root/nltk_data...\n",
            "[nltk_data]    | Downloading package masc_tagged to /root/nltk_data...\n",
            "[nltk_data]    | Downloading package movie_reviews to\n",
            "[nltk_data]    |     /root/nltk_data...\n",
            "[nltk_data]    |   Package movie_reviews is already up-to-date!\n",
            "[nltk_data]    | Downloading package mte_teip5 to /root/nltk_data...\n",
            "[nltk_data]    |   Unzipping corpora/mte_teip5.zip.\n",
            "[nltk_data]    | Downloading package names to /root/nltk_data...\n",
            "[nltk_data]    |   Package names is already up-to-date!\n",
            "[nltk_data]    | Downloading package nombank.1.0 to /root/nltk_data...\n",
            "[nltk_data]    | Downloading package nonbreaking_prefixes to\n",
            "[nltk_data]    |     /root/nltk_data...\n",
            "[nltk_data]    |   Unzipping corpora/nonbreaking_prefixes.zip.\n",
            "[nltk_data]    | Downloading package nps_chat to /root/nltk_data...\n",
            "[nltk_data]    |   Unzipping corpora/nps_chat.zip.\n",
            "[nltk_data]    | Downloading package omw to /root/nltk_data...\n",
            "[nltk_data]    |   Package omw is already up-to-date!\n",
            "[nltk_data]    | Downloading package omw-1.4 to /root/nltk_data...\n",
            "[nltk_data]    |   Package omw-1.4 is already up-to-date!\n",
            "[nltk_data]    | Downloading package opinion_lexicon to\n",
            "[nltk_data]    |     /root/nltk_data...\n",
            "[nltk_data]    |   Unzipping corpora/opinion_lexicon.zip.\n",
            "[nltk_data]    | Downloading package panlex_swadesh to\n",
            "[nltk_data]    |     /root/nltk_data...\n",
            "[nltk_data]    | Downloading package paradigms to /root/nltk_data...\n",
            "[nltk_data]    |   Unzipping corpora/paradigms.zip.\n",
            "[nltk_data]    | Downloading package pe08 to /root/nltk_data...\n",
            "[nltk_data]    |   Unzipping corpora/pe08.zip.\n",
            "[nltk_data]    | Downloading package pil to /root/nltk_data...\n",
            "[nltk_data]    |   Unzipping corpora/pil.zip.\n",
            "[nltk_data]    | Downloading package pl196x to /root/nltk_data...\n",
            "[nltk_data]    |   Unzipping corpora/pl196x.zip.\n",
            "[nltk_data]    | Downloading package ppattach to /root/nltk_data...\n",
            "[nltk_data]    |   Unzipping corpora/ppattach.zip.\n",
            "[nltk_data]    | Downloading package problem_reports to\n",
            "[nltk_data]    |     /root/nltk_data...\n",
            "[nltk_data]    |   Unzipping corpora/problem_reports.zip.\n",
            "[nltk_data]    | Downloading package product_reviews_1 to\n",
            "[nltk_data]    |     /root/nltk_data...\n",
            "[nltk_data]    |   Unzipping corpora/product_reviews_1.zip.\n",
            "[nltk_data]    | Downloading package product_reviews_2 to\n",
            "[nltk_data]    |     /root/nltk_data...\n",
            "[nltk_data]    |   Unzipping corpora/product_reviews_2.zip.\n",
            "[nltk_data]    | Downloading package propbank to /root/nltk_data...\n",
            "[nltk_data]    | Downloading package pros_cons to /root/nltk_data...\n",
            "[nltk_data]    |   Unzipping corpora/pros_cons.zip.\n",
            "[nltk_data]    | Downloading package ptb to /root/nltk_data...\n",
            "[nltk_data]    |   Unzipping corpora/ptb.zip.\n",
            "[nltk_data]    | Downloading package qc to /root/nltk_data...\n",
            "[nltk_data]    |   Unzipping corpora/qc.zip.\n",
            "[nltk_data]    | Downloading package reuters to /root/nltk_data...\n",
            "[nltk_data]    | Downloading package rte to /root/nltk_data...\n",
            "[nltk_data]    |   Unzipping corpora/rte.zip.\n",
            "[nltk_data]    | Downloading package semcor to /root/nltk_data...\n",
            "[nltk_data]    | Downloading package senseval to /root/nltk_data...\n",
            "[nltk_data]    |   Unzipping corpora/senseval.zip.\n",
            "[nltk_data]    | Downloading package sentence_polarity to\n",
            "[nltk_data]    |     /root/nltk_data...\n",
            "[nltk_data]    |   Unzipping corpora/sentence_polarity.zip.\n",
            "[nltk_data]    | Downloading package sentiwordnet to\n",
            "[nltk_data]    |     /root/nltk_data...\n",
            "[nltk_data]    |   Unzipping corpora/sentiwordnet.zip.\n",
            "[nltk_data]    | Downloading package shakespeare to /root/nltk_data...\n",
            "[nltk_data]    |   Package shakespeare is already up-to-date!\n",
            "[nltk_data]    | Downloading package sinica_treebank to\n",
            "[nltk_data]    |     /root/nltk_data...\n",
            "[nltk_data]    |   Unzipping corpora/sinica_treebank.zip.\n",
            "[nltk_data]    | Downloading package smultron to /root/nltk_data...\n",
            "[nltk_data]    |   Unzipping corpora/smultron.zip.\n",
            "[nltk_data]    | Downloading package state_union to /root/nltk_data...\n",
            "[nltk_data]    |   Unzipping corpora/state_union.zip.\n",
            "[nltk_data]    | Downloading package stopwords to /root/nltk_data...\n",
            "[nltk_data]    |   Package stopwords is already up-to-date!\n",
            "[nltk_data]    | Downloading package subjectivity to\n",
            "[nltk_data]    |     /root/nltk_data...\n",
            "[nltk_data]    |   Unzipping corpora/subjectivity.zip.\n",
            "[nltk_data]    | Downloading package swadesh to /root/nltk_data...\n",
            "[nltk_data]    |   Unzipping corpora/swadesh.zip.\n",
            "[nltk_data]    | Downloading package switchboard to /root/nltk_data...\n",
            "[nltk_data]    |   Unzipping corpora/switchboard.zip.\n",
            "[nltk_data]    | Downloading package timit to /root/nltk_data...\n",
            "[nltk_data]    |   Unzipping corpora/timit.zip.\n",
            "[nltk_data]    | Downloading package toolbox to /root/nltk_data...\n",
            "[nltk_data]    |   Unzipping corpora/toolbox.zip.\n",
            "[nltk_data]    | Downloading package treebank to /root/nltk_data...\n",
            "[nltk_data]    |   Package treebank is already up-to-date!\n",
            "[nltk_data]    | Downloading package twitter_samples to\n",
            "[nltk_data]    |     /root/nltk_data...\n",
            "[nltk_data]    |   Package twitter_samples is already up-to-date!\n",
            "[nltk_data]    | Downloading package udhr to /root/nltk_data...\n",
            "[nltk_data]    |   Unzipping corpora/udhr.zip.\n",
            "[nltk_data]    | Downloading package udhr2 to /root/nltk_data...\n",
            "[nltk_data]    |   Unzipping corpora/udhr2.zip.\n",
            "[nltk_data]    | Downloading package unicode_samples to\n",
            "[nltk_data]    |     /root/nltk_data...\n",
            "[nltk_data]    |   Unzipping corpora/unicode_samples.zip.\n",
            "[nltk_data]    | Downloading package universal_treebanks_v20 to\n",
            "[nltk_data]    |     /root/nltk_data...\n",
            "[nltk_data]    | Downloading package verbnet to /root/nltk_data...\n",
            "[nltk_data]    |   Unzipping corpora/verbnet.zip.\n",
            "[nltk_data]    | Downloading package verbnet3 to /root/nltk_data...\n",
            "[nltk_data]    |   Unzipping corpora/verbnet3.zip.\n",
            "[nltk_data]    | Downloading package webtext to /root/nltk_data...\n",
            "[nltk_data]    |   Unzipping corpora/webtext.zip.\n",
            "[nltk_data]    | Downloading package wordnet to /root/nltk_data...\n",
            "[nltk_data]    |   Package wordnet is already up-to-date!\n",
            "[nltk_data]    | Downloading package wordnet2021 to /root/nltk_data...\n",
            "[nltk_data]    |   Package wordnet2021 is already up-to-date!\n",
            "[nltk_data]    | Downloading package wordnet2022 to /root/nltk_data...\n",
            "[nltk_data]    |   Unzipping corpora/wordnet2022.zip.\n",
            "[nltk_data]    | Downloading package wordnet31 to /root/nltk_data...\n",
            "[nltk_data]    |   Package wordnet31 is already up-to-date!\n",
            "[nltk_data]    | Downloading package wordnet_ic to /root/nltk_data...\n",
            "[nltk_data]    |   Package wordnet_ic is already up-to-date!\n",
            "[nltk_data]    | Downloading package words to /root/nltk_data...\n",
            "[nltk_data]    |   Package words is already up-to-date!\n",
            "[nltk_data]    | Downloading package ycoe to /root/nltk_data...\n",
            "[nltk_data]    |   Unzipping corpora/ycoe.zip.\n",
            "[nltk_data]    | \n",
            "[nltk_data]  Done downloading collection all-corpora\n",
            "[nltk_data] Downloading package punkt to /root/nltk_data...\n",
            "[nltk_data]   Package punkt is already up-to-date!\n"
          ]
        },
        {
          "output_type": "execute_result",
          "data": {
            "text/plain": [
              "True"
            ]
          },
          "metadata": {},
          "execution_count": 1
        }
      ]
    },
    {
      "cell_type": "code",
      "source": [
        "import nltk\n",
        "from nltk.corpus import PlaintextCorpusReader\n",
        "\n",
        "\n",
        "corpus_root = '/content/drive/MyDrive/Colab Notebooks/txt '\n",
        "wordlists = PlaintextCorpusReader(corpus_root, '.*')\n",
        "\n",
        "books = wordlists.fileids()\n",
        "print(books)"
      ],
      "metadata": {
        "id": "8kDFO8U68mkD",
        "colab": {
          "base_uri": "https://localhost:8080/"
        },
        "outputId": "46edf78a-bac4-4b77-b414-c5911750c445"
      },
      "execution_count": 13,
      "outputs": [
        {
          "output_type": "stream",
          "name": "stdout",
          "text": [
            "['Metro Boomin want some more.txt', 'Y.txt', 'alexender.txt']\n"
          ]
        }
      ]
    },
    {
      "cell_type": "code",
      "source": [
        "import nltk\n",
        "testText = wordlists.words('alexender.txt')\n",
        "print(testText)\n",
        "\n",
        "single = nltk.text.Text(testText)\n",
        "print(single)\n"
      ],
      "metadata": {
        "colab": {
          "base_uri": "https://localhost:8080/"
        },
        "id": "ILyvTiy09zY0",
        "outputId": "905b9f01-96f1-4273-f580-17307301bbcb"
      },
      "execution_count": 17,
      "outputs": [
        {
          "output_type": "stream",
          "name": "stdout",
          "text": [
            "['SONG', ':', 'ALEXANDER', 'HAMILTON', 'BURR', 'How', ...]\n",
            "<Text: SONG : ALEXANDER HAMILTON BURR How does a...>\n"
          ]
        }
      ]
    },
    {
      "cell_type": "code",
      "source": [
        "single.count('HAMILTON')"
      ],
      "metadata": {
        "colab": {
          "base_uri": "https://localhost:8080/"
        },
        "id": "MicP89J2-YMV",
        "outputId": "4db002e8-bd73-4d1b-bd1f-e5d1b1ca13a3"
      },
      "execution_count": 19,
      "outputs": [
        {
          "output_type": "execute_result",
          "data": {
            "text/plain": [
              "415"
            ]
          },
          "metadata": {},
          "execution_count": 19
        }
      ]
    },
    {
      "cell_type": "code",
      "source": [
        "single.concordance(\"HAMILTON\", lines=100)"
      ],
      "metadata": {
        "colab": {
          "base_uri": "https://localhost:8080/"
        },
        "id": "RYezl8fj-YVi",
        "outputId": "81e8c520-2529-4c60-ea82-698c693c2ef0"
      },
      "execution_count": 20,
      "outputs": [
        {
          "output_type": "stream",
          "name": "stdout",
          "text": [
            "Displaying 100 of 505 matches:\n",
            "                  SONG : ALEXANDER HAMILTON BURR How does a bastard , orphan ,\n",
            "name . What ’ s your name , man ?” HAMILTON Alexander Hamilton My name is Alex\n",
            "r name , man ?” HAMILTON Alexander Hamilton My name is Alexander Hamilton And \n",
            "nder Hamilton My name is Alexander Hamilton And there ’ s a million things I h\n",
            "In New York you can Be a new man — HAMILTON Just you wait ! Just you wait ! CO\n",
            "WOMEN In New York — MEN New York — HAMILTON Just you wait ! COMPANY Alexander \n",
            " Just you wait ! COMPANY Alexander Hamilton We are waiting in the wings for yo\n",
            "to take your time ! Oh , Alexander Hamilton When America sings for you Will th\n",
            "erica forgot him COMPANY Alexander Hamilton Waiting in the wings for you You n\n",
            "to take your time ! Oh , Alexander Hamilton Alexander Hamilton … America sings\n",
            " Oh , Alexander Hamilton Alexander Hamilton … America sings for you Will they \n",
            "our name , man ? COMPANY Alexander Hamilton ! SONG : AARON BURR , SIR COMPANY \n",
            ", SIR COMPANY 1776 . New York City HAMILTON Pardon me . Are you Aaron Burr , s\n",
            "RR That depends . Who ’ s asking ? HAMILTON Oh , well , sure , sir I ’ m Alexa\n",
            " well , sure , sir I ’ m Alexander Hamilton , I ’ m at your service , sir I ha\n",
            "for you BURR I ’ m getting nervous HAMILTON Sir … I heard your name at Princet\n",
            "ials ? BURR You punched the bursar HAMILTON Yes ! I wanted to do what you did \n",
            "ts ’ dying wish before they passed HAMILTON You ’ re an orphan . Of course ! I\n",
            "for … BURR Can I buy you a drink ? HAMILTON That would be nice BURR While we ’\n",
            "fer you some free advice Talk less HAMILTON What ? BURR Smile more HAMILTON Ha\n",
            "ss HAMILTON What ? BURR Smile more HAMILTON Ha BURR Don ’ t let them know what\n",
            " ’ re against or what you ’ re for HAMILTON You can ’ t be serious BURR You wa\n",
            "serious BURR You wanna get ahead ? HAMILTON Yes BURR Fools who run their mouth\n",
            "imminent . What do you stall for ? HAMILTON If you stand for nothing , Burr , \n",
            "t me spell out the name I am the — HAMILTON / LAFAYETTE / MULLIGAN / LAURENS A\n",
            "- D E - R — we are — meant to be … HAMILTON A colony that runs independently M\n",
            "LAURENS ( He says in parentheses ) HAMILTON Don ’ t be shocked when your hist \n",
            "ually , you ’ ll see my ascendancy HAMILTON And I am not throwing away My shot\n",
            " I ’ m not throwing away my shot . HAMILTON / MULLIGAN / LAURENS / LAFAYETTE I\n",
            "e the other side panicky With my — HAMILTON / LAURENS / LAFAYETTE / MULLIGAN S\n",
            " some pants ! I ’ m gonna take a — HAMILTON / LAURENS / LAFAYETTE / MULLIGAN S\n",
            "rst black battalion Have another — HAMILTON / LAURENS / LAFAYETTE / MULLIGAN S\n",
            "u talk , you ’ re gonna get shot ! HAMILTON Burr , check what we got Mister La\n",
            "s get this guy in front of a crowd HAMILTON / LAURENS / LAFAYETTE / MULLIGAN /\n",
            "! Come on ! Come on , let ’ s go ! HAMILTON / LAFAYETTE / MULLIGAN Whoa ! Whoa\n",
            "a ! Whoa ! Whoa ! Whoa ! Rise up ! HAMILTON I imagine death so much it feels m\n",
            "me , I ’ m thinkin ’ past tomorrow HAMILTON AND COMPANY And I am not throwing \n",
            "nd I ’ m not throwing away my shot HAMILTON / LAURENS / LAFAYETTE / MULLIGAN W\n",
            "ime to take a shot ! We ’ re gonna HAMILTON Time to take a shot ! HAMILTON / L\n",
            "nna HAMILTON Time to take a shot ! HAMILTON / LAFAYETTE / LAURENS / MULLIGAN T\n",
            "! Time to take a shot ! And I am — HAMILTON / LAFAYETTE / MULLIGAN / LAURENS N\n",
            "MPANY Not throwin ’ away my shot ! HAMILTON I may not live to see our glory ! \n",
            " I may not live to see our glory ! HAMILTON But I will gladly join the fight !\n",
            "But I will gladly join the fight ! HAMILTON And when our children tell our sto\n",
            "when our children tell our story … HAMILTON They ’ ll tell the story of tonigh\n",
            "Let ’ s have another round tonight HAMILTON Let ’ s have another round tonight\n",
            "URENS Telling the story of tonight HAMILTON They ’ ll tell the story of tonigh\n",
            "Something they can never take away HAMILTON No matter what they tell you MULLI\n",
            "NS Raise a glass to the four of us HAMILTON / LAURENS / MULLIGAN / LAFAYETTE T\n",
            " Tomorrow there ’ ll be more of us HAMILTON / LAURENS Telling the story of ton\n",
            "Let ’ s have another round tonight HAMILTON / LAURENS / ENSEMBLE They ’ ll tel\n",
            " his mercy For shame , for shame … HAMILTON Yo ! He ’ d have you all unravel a\n",
            "or the revolution ! SEABURY Heed — HAMILTON If you repeat yourself again I ’ m\n",
            "self again I ’ m gonna — SEABURY / HAMILTON Scream — HAMILTON Honestly , look \n",
            "onna — SEABURY / HAMILTON Scream — HAMILTON Honestly , look at me , please don\n",
            "ead ! SEABURY Not your interests — HAMILTON Don ’ t modulate the key then not \n",
            "of tea ? BURR Alexander , please ! HAMILTON Burr , I ’ d rather be divisive th\n",
            "roops ! They surround our troops ! HAMILTON As a kid in the Caribbean I wished\n",
            "or I knew it was the only way to — HAMILTON / BURR / MULLIGAN / LAURENS / LAFA\n",
            "AN / LAURENS / LAFAYETTE Rise up ! HAMILTON If they tell my story I am either \n",
            "e on the battlefield in glory or — HAMILTON / BURR / MULLIGAN / LAURENS / LAFA\n",
            "AN / LAURENS / LAFAYETTE Rise up ! HAMILTON I will fight for this land But the\n",
            " can give us a command so we can — HAMILTON / BURR / MULLIGAN / LAURENS / LAFA\n",
            "AN / LAURENS / LAFAYETTE Rise up ! HAMILTON Understand ? It ’ s the only way t\n",
            "erstand ? It ’ s the only way to — HAMILTON / BURR / MULLIGAN / LAURENS / LAFA\n",
            "NS / LAFAYETTE Rise up ! Rise up ! HAMILTON Here he comes ! ENSEMBLE Here come\n",
            "Buck , buck , buck , buck , buck ! HAMILTON They ’ re battering down the Batte\n",
            "y check the damages MULLIGAN Rah ! HAMILTON We gotta stop ‘ em and rob ‘ em of\n",
            "of their advantages MULLIGAN Rah ! HAMILTON Let ’ s take a stand with the stam\n",
            "ith the stamina God has granted us Hamilton won ’ t abandon ship Yo , let ’ s \n",
            " west WASHINGTON Yes ? BURR Well — HAMILTON Your excellency , you wanted to se\n",
            " you wanted to see me ? WASHINGTON Hamilton , come in , have you met Burr ? HA\n",
            "on , come in , have you met Burr ? HAMILTON Yes , sir HAMILTON AND BURR We kee\n",
            " you met Burr ? HAMILTON Yes , sir HAMILTON AND BURR We keep meeting BURR As I\n",
            "TON Close the door on your way out HAMILTON Have I done something wrong , sir \n",
            "precedes you , but I have to laugh HAMILTON Sir ? WASHINGTON Hamilton , how co\n",
            "to laugh HAMILTON Sir ? WASHINGTON Hamilton , how come no one can get you on t\n",
            "o one can get you on their staff ? HAMILTON Sir ! WASHINGTON Don ’ t get me wr\n",
            "nd Henry Knox wanted to hire you … HAMILTON To be their Secretary ? I don ’ t \n",
            "so WASHINGTON Why ’ re you upset ? HAMILTON I ’ m not — WASHINGTON It ’ s alri\n",
            "antasies of dyin ’ like a martyr ? HAMILTON Yes WASHINGTON Dying is easy , you\n",
            "asy , young man . Living is harder HAMILTON Why are you telling me this ? WASH\n",
            "n the load . So ? COMPANY ( EXCEPT HAMILTON ) I am not throwin ’ away my shot \n",
            ", I ’ m young Scrappy and hungry ! HAMILTON I am not throwing away my shot ! W\n",
            "ANY We are outgunned , outmanned ! HAMILTON You need all the help you can get \n",
            "COMPANY Outnumbered , outplanned ! HAMILTON We ’ ll need some spies on the ins\n",
            "en who might let some things slide HAMILTON I ’ ll write to Congress and tell \n",
            " ENSEMBLE Here comes the General ! HAMILTON Rise up ! HAMILTON Rise up ! ENSEM\n",
            "s the General ! HAMILTON Rise up ! HAMILTON Rise up ! ENSEMBLE Here comes the \n",
            " ENSEMBLE Here comes the General ! HAMILTON Rise up ! COMPANY Boom ! Chicka - \n",
            "L COMPANY Here comes the General ! HAMILTON What ? WASHINGTON And his right ha\n",
            "and of the father Washington hires Hamilton right on sight But Hamilton still \n",
            " hires Hamilton right on sight But Hamilton still wants to fight , not write N\n",
            "ill wants to fight , not write Now Hamilton ’ s skill with a quill is undeniab\n",
            "named her feral tomcat after him ! Hamilton That ’ s true ! Full Company 1780 \n",
            "rry a sister , you ’ re rich , son Hamilton Is it a question of if , Burr , or\n",
            "tion of if , Burr , or which one ? Hamilton / Burr / Laurens Hey Hey Hey hey H\n",
            "n / Burr / Laurens Hey Hey Hey hey HAMILTON / BURR / LAURENS / ALL WOMEN ( EXC\n",
            "ount And I ’ m drownin ’ in ‘ em . HAMILTON Where are you taking me ? ANGELICA\n",
            "CA I ’ m about to change your life HAMILTON Then by all means , lead the way E\n"
          ]
        }
      ]
    }
  ]
}